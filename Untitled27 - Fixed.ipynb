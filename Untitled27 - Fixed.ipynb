{
 "cells": [
  {
   "cell_type": "code",
   "execution_count": 1,
   "id": "79384895",
   "metadata": {},
   "outputs": [],
   "source": [
    "#RGB to  HSV conversion\n",
    "import colorsys"
   ]
  },
  {
   "cell_type": "code",
   "execution_count": 2,
   "id": "06d61e4e",
   "metadata": {},
   "outputs": [],
   "source": [
    "def f_rgb_to_hsv(r, g, b, scaleFactor):\n",
    "    r, g, b= r/255.0, g/255.0, b/255.0\n",
    "    cmax = max(r,g,b) #maximum of r, g, b\n",
    "    cmin = min(r,g,b) #minimum of r, g, b\n",
    "    diff = cmax-cmin  #diff of cmax and cmin\n",
    "    s = 0\n",
    "    if cmax == cmin: #This mean difference is 0\n",
    "        h = 0\n",
    "    elif cmax == r: #If max value is r\n",
    "        h = (60*((g-b)/diff) + 0) % 360 # The value should not exceed 360 \n",
    "    elif cmax == g: #If max value is g \n",
    "        h = (60*((b-r)/diff) + 120) % 360\n",
    "    elif cmax == b: #If max value is b\n",
    "        h = (60* ((r-g)/diff) + 240) % 360\n",
    "    if h < 0: \n",
    "        h = h + 360\n",
    "    if cmax == 0:\n",
    "        s = 0\n",
    "    else:\n",
    "        s = (diff/cmax) * scaleFactor\n",
    "    v = cmax * scaleFactor\n",
    "    return h, s, v"
   ]
  },
  {
   "cell_type": "code",
   "execution_count": 3,
   "id": "232f08aa",
   "metadata": {},
   "outputs": [],
   "source": [
    "    # if h < 0: \n",
    "    #     h = h + 360\n",
    "    # if cmax == 0:\n",
    "    #     s = 0\n",
    "    # else:\n",
    "    #     s = (diff/cmax) * scaleFactor\n",
    "    # v = cmax * scaleFactor\n",
    "    # return h, s, v"
   ]
  },
  {
   "cell_type": "code",
   "execution_count": 4,
   "id": "63f495bc",
   "metadata": {},
   "outputs": [
    {
     "name": "stdout",
     "output_type": "stream",
     "text": [
      "(100.0, 75.0, 78.43137254901961)\n"
     ]
    }
   ],
   "source": [
    "print(f_rgb_to_hsv(100,200,50,100))\n",
    "#hue value, saturation value, and brightness value"
   ]
  },
  {
   "cell_type": "code",
   "execution_count": 5,
   "id": "e77a43b4",
   "metadata": {},
   "outputs": [],
   "source": [
    "#Convert image\n",
    "import cv2\n",
    "im = cv2.imread(r'Sunflowers.jpg')"
   ]
  },
  {
   "cell_type": "code",
   "execution_count": 6,
   "id": "fd652216",
   "metadata": {},
   "outputs": [],
   "source": [
    "HsvIm = cv2.cvtColor (im,cv2.COLOR_BGR2HSV)"
   ]
  },
  {
   "cell_type": "code",
   "execution_count": 7,
   "id": "9ad2657c",
   "metadata": {},
   "outputs": [
    {
     "data": {
      "text/plain": [
       "numpy.ndarray"
      ]
     },
     "execution_count": 7,
     "metadata": {},
     "output_type": "execute_result"
    }
   ],
   "source": [
    "#HSV image type\n",
    "type(HsvIm)"
   ]
  },
  {
   "cell_type": "code",
   "execution_count": 9,
   "id": "b8629600",
   "metadata": {},
   "outputs": [
    {
     "data": {
      "text/plain": [
       "(359, 580, 3)"
      ]
     },
     "execution_count": 9,
     "metadata": {},
     "output_type": "execute_result"
    }
   ],
   "source": [
    "HsvIm.shape\n",
    "#HSV channels"
   ]
  },
  {
   "cell_type": "code",
   "execution_count": 10,
   "id": "c98b505c",
   "metadata": {},
   "outputs": [
    {
     "name": "stdout",
     "output_type": "stream",
     "text": [
      "[[[247 159 118]\n",
      "  [247 159 118]\n",
      "  [246 158 117]\n",
      "  ...\n",
      "  [255 178 139]\n",
      "  [254 177 138]\n",
      "  [253 176 137]]\n",
      "\n",
      " [[253 168 128]\n",
      "  [253 168 128]\n",
      "  [252 167 127]\n",
      "  ...\n",
      "  [250 172 126]\n",
      "  [250 172 126]\n",
      "  [251 173 127]]\n",
      "\n",
      " [[255 175 134]\n",
      "  [255 175 134]\n",
      "  [255 175 134]\n",
      "  ...\n",
      "  [249 166 115]\n",
      "  [249 166 115]\n",
      "  [249 166 115]]\n",
      "\n",
      " ...\n",
      "\n",
      " [[  1  26  16]\n",
      "  [  4  25  17]\n",
      "  [  0  17  14]\n",
      "  ...\n",
      "  [  2  18   7]\n",
      "  [  3  19   8]\n",
      "  [  2  18   7]]\n",
      "\n",
      " [[  2  26  16]\n",
      "  [  4  25  17]\n",
      "  [  1  15  13]\n",
      "  ...\n",
      "  [  0  16   5]\n",
      "  [  0  15   4]\n",
      "  [  0  15   4]]\n",
      "\n",
      " [[  3  27  17]\n",
      "  [  5  23  16]\n",
      "  [  0  13  11]\n",
      "  ...\n",
      "  [  0  15   4]\n",
      "  [  0  15   4]\n",
      "  [  4  20   9]]]\n"
     ]
    }
   ],
   "source": [
    "print(im)"
   ]
  },
  {
   "cell_type": "code",
   "execution_count": 11,
   "id": "23bbab63",
   "metadata": {},
   "outputs": [],
   "source": [
    "cv2.imshow('Grayscale', HsvIm)\n",
    "cv2.waitKey()\n",
    "\n",
    "cv2.destroyAllWindows()"
   ]
  },
  {
   "cell_type": "code",
   "execution_count": null,
   "id": "9070a338",
   "metadata": {},
   "outputs": [],
   "source": []
  }
 ],
 "metadata": {
  "kernelspec": {
   "display_name": "Python 3 (ipykernel)",
   "language": "python",
   "name": "python3"
  },
  "language_info": {
   "codemirror_mode": {
    "name": "ipython",
    "version": 3
   },
   "file_extension": ".py",
   "mimetype": "text/x-python",
   "name": "python",
   "nbconvert_exporter": "python",
   "pygments_lexer": "ipython3",
   "version": "3.9.12"
  }
 },
 "nbformat": 4,
 "nbformat_minor": 5
}
